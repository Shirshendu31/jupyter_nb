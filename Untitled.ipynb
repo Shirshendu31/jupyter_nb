{
 "cells": [
  {
   "cell_type": "code",
   "execution_count": 5,
   "id": "7dddf3cf-c638-45aa-9609-4d49e4013353",
   "metadata": {},
   "outputs": [],
   "source": [
    "from ipywidgets import  interactive\n",
    "import matplotlib.pyplot as plt\n",
    "import numpy as np"
   ]
  },
  {
   "cell_type": "code",
   "execution_count": 10,
   "id": "10911257-3c86-4fa6-b2df-be8fa80609ae",
   "metadata": {},
   "outputs": [
    {
     "data": {
      "application/vnd.jupyter.widget-view+json": {
       "model_id": "4165f579a93f4e48a07fc350b9ed227b",
       "version_major": 2,
       "version_minor": 0
      },
      "text/plain": [
       "interactive(children=(FloatSlider(value=0.0, description='m', max=2.0, min=-2.0), FloatSlider(value=0.0, descr…"
      ]
     },
     "metadata": {},
     "output_type": "display_data"
    }
   ],
   "source": [
    "def f(m, k):\n",
    "    #plt.figure(2)\n",
    "    t = np.linspace(-10,10,100)\n",
    "    plt.plot(t, m*np.exp(-k*t))\n",
    "    plt.ylim(5)\n",
    "    plt.show()\n",
    "    \n",
    "interactive_plot = interactive(f, m=(-2.0, 2.0), k=(-3, 3, 0.5))\n",
    "output = interactive_plot.children[-1]\n",
    "output.layout.height = '350px'\n",
    "interactive_plot"
   ]
  },
  {
   "cell_type": "code",
   "execution_count": null,
   "id": "ef4ce881-53a6-4db0-8035-5f20f20ef03a",
   "metadata": {},
   "outputs": [],
   "source": []
  }
 ],
 "metadata": {
  "kernelspec": {
   "display_name": "d_science",
   "language": "python",
   "name": "d_science"
  },
  "language_info": {
   "codemirror_mode": {
    "name": "ipython",
    "version": 3
   },
   "file_extension": ".py",
   "mimetype": "text/x-python",
   "name": "python",
   "nbconvert_exporter": "python",
   "pygments_lexer": "ipython3",
   "version": "3.10.4"
  }
 },
 "nbformat": 4,
 "nbformat_minor": 5
}
