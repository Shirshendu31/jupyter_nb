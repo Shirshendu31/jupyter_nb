{
 "cells": [
  {
   "cell_type": "code",
   "execution_count": 17,
   "id": "9600a95d-f959-49b8-b144-a9d031a36c9d",
   "metadata": {},
   "outputs": [
    {
     "data": {
      "application/vnd.jupyter.widget-view+json": {
       "model_id": "e93f98a88c914feeb82bd61d601ba0b2",
       "version_major": 2,
       "version_minor": 0
      },
      "text/plain": [
       "interactive(children=(FloatSlider(value=0.45000000000000007, description='m', max=1.0, min=-0.1), FloatSlider(…"
      ]
     },
     "metadata": {},
     "output_type": "display_data"
    }
   ],
   "source": [
    "import numpy as np\n",
    "from scipy.integrate import odeint\n",
    "import matplotlib.pyplot as plt\n",
    "from ipywidgets import  interactive\n",
    "import ipywidgets as widgets\n",
    "\n",
    "def f(m, k):\n",
    "    t = np.linspace(0, 10, 20)\n",
    "    plt.plot(t, m*np.exp(-k*t), '--ro')\n",
    "    plt.ylim(-.1,1)\n",
    "    plt.style.use('dark_background')\n",
    "    plt.grid()\n",
    "    plt.show()\n",
    "    \n",
    "interactive_plot = interactive(f, m=(-.1, 1.0), k=(-1, 1, 0.01))\n",
    "interactive_plot"
   ]
  }
 ],
 "metadata": {
  "kernelspec": {
   "display_name": "d_science",
   "language": "python",
   "name": "d_science"
  },
  "language_info": {
   "codemirror_mode": {
    "name": "ipython",
    "version": 3
   },
   "file_extension": ".py",
   "mimetype": "text/x-python",
   "name": "python",
   "nbconvert_exporter": "python",
   "pygments_lexer": "ipython3",
   "version": "3.10.4"
  }
 },
 "nbformat": 4,
 "nbformat_minor": 5
}
