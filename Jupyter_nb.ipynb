{
 "cells": [
  {
   "cell_type": "code",
   "execution_count": null,
   "id": "e7aa5ad6-fbef-43b8-8541-2200910d134d",
   "metadata": {},
   "outputs": [],
   "source": [
    "# Installed Pakages\n",
    "!pip list"
   ]
  }
 ],
 "metadata": {
  "kernelspec": {
   "display_name": "d_science",
   "language": "python",
   "name": "d_science"
  },
  "language_info": {
   "codemirror_mode": {
    "name": "ipython",
    "version": 3
   },
   "file_extension": ".py",
   "mimetype": "text/x-python",
   "name": "python",
   "nbconvert_exporter": "python",
   "pygments_lexer": "ipython3",
   "version": "3.10.4"
  }
 },
 "nbformat": 4,
 "nbformat_minor": 5
}
